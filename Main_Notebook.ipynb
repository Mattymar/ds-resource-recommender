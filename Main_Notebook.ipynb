{
 "cells": [
  {
   "cell_type": "markdown",
   "metadata": {},
   "source": [
    "# Data Science Resource Recommendations + Topic Modeling"
   ]
  },
  {
   "cell_type": "markdown",
   "metadata": {},
   "source": [
    "In this notebook, we're going to walk through the process of building the model to be used for our data science resource recommendation tool.  In addition we do a little topic modeling to get to know our corpus on a more personal level."
   ]
  },
  {
   "cell_type": "markdown",
   "metadata": {},
   "source": [
    "The goal of this project was to take a block of text (say, for example, a chapter from the Deep Learning Book) and find blog posts that may be complementary to the materials in that text.  One might see this becoming a useful tool for data scientists and students who want to see multiple perspectives on a subject, or get ideas of what to study next."
   ]
  },
  {
   "cell_type": "code",
   "execution_count": 1,
   "metadata": {
    "collapsed": false
   },
   "outputs": [],
   "source": [
    "from pymongo import MongoClient\n",
    "from dsresources.dsresources import read_posts\n",
    "\n",
    "import numpy as np\n",
    "import pandas as pd\n",
    "import nltk\n",
    "import re\n",
    "import os\n",
    "import codecs\n",
    "from sklearn import feature_extraction\n"
   ]
  },
  {
   "cell_type": "markdown",
   "metadata": {},
   "source": [
    "We're going to want to tokenize and stem the words in our text so let's set up a few helper functions."
   ]
  },
  {
   "cell_type": "code",
   "execution_count": 2,
   "metadata": {
    "collapsed": true
   },
   "outputs": [],
   "source": [
    "from nltk.stem.snowball import SnowballStemmer\n",
    "stemmer = SnowballStemmer('english')"
   ]
  },
  {
   "cell_type": "code",
   "execution_count": 3,
   "metadata": {
    "collapsed": true
   },
   "outputs": [],
   "source": [
    "def tokenize_and_stem(text):\n",
    "    \"\"\"\n",
    "    Use nltk's tokenizers and snowball stemmer to tokenize and stem all words in a block of text\n",
    "    \"\"\"\n",
    "    tokens = [word for sent in nltk.sent_tokenize(text) for word in nltk.word_tokenize(sent)]\n",
    "    filtered_tokens = []\n",
    "    for token in tokens:\n",
    "        if re.search('[a-zA-Z]', token):\n",
    "            filtered_tokens.append(token)\n",
    "    stems = [stemmer.stem(t) for t in filtered_tokens]\n",
    "    return stems"
   ]
  },
  {
   "cell_type": "code",
   "execution_count": 4,
   "metadata": {
    "collapsed": true
   },
   "outputs": [],
   "source": [
    "def tokenize_only(text):\n",
    "    \"\"\"\n",
    "    Use nltk's tokenizers to tokenize all words (but not stem) in a block of text\n",
    "    \"\"\"\n",
    "    tokens = [word.lower() for sent in nltk.sent_tokenize(text) for word in nltk.word_tokenize(sent)]\n",
    "    filtered_tokens = []\n",
    "    # filter out any tokens not containing letters (e.g., numeric tokens, raw punctuation)\n",
    "    for token in tokens:\n",
    "        if re.search('[a-zA-Z]', token):\n",
    "            filtered_tokens.append(token)\n",
    "    return filtered_tokens"
   ]
  },
  {
   "cell_type": "markdown",
   "metadata": {},
   "source": [
    "## Build Text Corpus"
   ]
  },
  {
   "cell_type": "markdown",
   "metadata": {},
   "source": [
    "Our text is loaded in a MongoDB database, so we'll want to access this."
   ]
  },
  {
   "cell_type": "code",
   "execution_count": 11,
   "metadata": {
    "collapsed": true
   },
   "outputs": [],
   "source": [
    "client = MongoClient(port=12345)"
   ]
  },
  {
   "cell_type": "code",
   "execution_count": 12,
   "metadata": {
    "collapsed": true
   },
   "outputs": [],
   "source": [
    "db = client.fletcher"
   ]
  },
  {
   "cell_type": "code",
   "execution_count": 13,
   "metadata": {
    "collapsed": true
   },
   "outputs": [],
   "source": [
    "test_posts = db.get_collection('test_posts')"
   ]
  },
  {
   "cell_type": "markdown",
   "metadata": {},
   "source": [
    "One problem I initially had was that some blog posts in my database were in a foreign language and others were corrupted with ASCII characters and such, so I wrote a function to filter these out.  I also filtered out posts that were less than 200 words as these were largely image-only posts or promotions."
   ]
  },
  {
   "cell_type": "code",
   "execution_count": 16,
   "metadata": {
    "collapsed": true
   },
   "outputs": [],
   "source": [
    "import enchant\n",
    "def is_english(text):\n",
    "    \"\"\"\n",
    "    Returns text that contains at least 70% English words.\n",
    "    \"\"\"\n",
    "    d = enchant.Dict(\"en_US\")\n",
    "    bad = 0\n",
    "    good = 0\n",
    "    for word in tokenize_only(text):\n",
    "        if d.check(word):\n",
    "            good += 1\n",
    "        else:\n",
    "            bad += 1\n",
    "    per = (bad/(good+bad))\n",
    "    if per < .70:\n",
    "        return True\n",
    "    else:\n",
    "        return False"
   ]
  },
  {
   "cell_type": "code",
   "execution_count": 17,
   "metadata": {
    "collapsed": false
   },
   "outputs": [],
   "source": [
    "post_texts = [post['text'] for post in test_posts.find() if post['text'] and len(post['text'].split()) > 200 and is_english(post['text'])]"
   ]
  },
  {
   "cell_type": "code",
   "execution_count": 18,
   "metadata": {
    "collapsed": true
   },
   "outputs": [],
   "source": [
    "post_titles = [post['title'] for post in test_posts.find() if post['text'] and len(post['text'].split()) > 200 and is_english(post['text'])]"
   ]
  },
  {
   "cell_type": "code",
   "execution_count": 19,
   "metadata": {
    "collapsed": true
   },
   "outputs": [],
   "source": [
    "post_urls = [post['url'] for post in test_posts.find() if post['text'] and len(post['text'].split()) > 200 and is_english(post['text'])]"
   ]
  },
  {
   "cell_type": "markdown",
   "metadata": {},
   "source": [
    "A quick sanity check to ensure the post data lines up."
   ]
  },
  {
   "cell_type": "code",
   "execution_count": 20,
   "metadata": {
    "collapsed": false
   },
   "outputs": [
    {
     "data": {
      "text/plain": [
       "(3963, 3963, 3963)"
      ]
     },
     "execution_count": 20,
     "metadata": {},
     "output_type": "execute_result"
    }
   ],
   "source": [
    "(len(post_texts), len(post_titles), len(post_urls))"
   ]
  },
  {
   "cell_type": "markdown",
   "metadata": {},
   "source": [
    "Let's take a look at a sample."
   ]
  },
  {
   "cell_type": "code",
   "execution_count": 23,
   "metadata": {
    "collapsed": false
   },
   "outputs": [
    {
     "data": {
      "text/plain": [
       "'Scalable Software and Big Data Architecture - Software Architectural Patterns and Design Patterns'"
      ]
     },
     "execution_count": 23,
     "metadata": {},
     "output_type": "execute_result"
    }
   ],
   "source": [
    "post_titles[0]"
   ]
  },
  {
   "cell_type": "code",
   "execution_count": 30,
   "metadata": {
    "collapsed": false
   },
   "outputs": [
    {
     "data": {
      "text/plain": [
       "'## Articles\\n\\n  1. Application Types, Requirements, and Components\\n  2. Software Architectural Patterns and Design Patterns\\n  3. Big Data and Analytics Architectural Patterns (Coming soon)\\n\\n## Introduction\\n\\nWelcome to the second article in a'"
      ]
     },
     "execution_count": 30,
     "metadata": {},
     "output_type": "execute_result"
    }
   ],
   "source": [
    "post_texts[0][:240]"
   ]
  },
  {
   "cell_type": "code",
   "execution_count": 31,
   "metadata": {
    "collapsed": false
   },
   "outputs": [
    {
     "data": {
      "text/plain": [
       "'http://www.innoarchitech.com/scalable-cloud-software-big-data-architecture-architectural-design-patterns/'"
      ]
     },
     "execution_count": 31,
     "metadata": {},
     "output_type": "execute_result"
    }
   ],
   "source": [
    "post_urls[0]"
   ]
  },
  {
   "cell_type": "markdown",
   "metadata": {},
   "source": [
    "We need to remove some common words, as well as some words that may carry some inappropriate weight."
   ]
  },
  {
   "cell_type": "code",
   "execution_count": 32,
   "metadata": {
    "collapsed": true
   },
   "outputs": [],
   "source": [
    "stopwords = nltk.corpus.stopwords.words('english')"
   ]
  },
  {
   "cell_type": "code",
   "execution_count": 33,
   "metadata": {
    "collapsed": true
   },
   "outputs": [],
   "source": [
    "stopwords.extend(['machine', 'data', 'science', 'scientist', 'like', '’s', \"'s\", 'we’ll', 'e', 'g', 'n', 'com', 'el', 'la', 'un', 'los', 'daniel',\n",
    "                      'tim', 'de', 'en', 'gt', 'lt', 'et', 'posted', 'powered', 'click', 'age', 'style', 'al''video', 'university', 'x', 'https', 'nginx', 'forbidden',\n",
    "                      'amp', '\\theta', 'q', '\\mathbb', '\\right', '\\log', '\\left', 'w', '\\mathcal', '\\hat', 'k', 'l', '\\lambda',\n",
    "                      'year', 'would', \"n't\", 'post', 'see', 'new', 'look', 'day', 'number', 'thing', 'think', 'want', 'show',\n",
    "                      'word', 'paper', 'know', '\\frac'])\n",
    "                  \n",
    "                  \n",
    "                  \n",
    "                  "
   ]
  },
  {
   "cell_type": "markdown",
   "metadata": {},
   "source": [
    "Now we build our vocabulary."
   ]
  },
  {
   "cell_type": "code",
   "execution_count": 34,
   "metadata": {
    "collapsed": true
   },
   "outputs": [],
   "source": [
    "total_vocab_stemmed = []\n",
    "total_vocab_tokenized = []\n",
    "for i in post_texts:\n",
    "    allwords_stemmed = tokenize_and_stem(i)\n",
    "    total_vocab_stemmed.extend(allwords_stemmed)\n",
    "    \n",
    "    allwords_tokenized = tokenize_only(i)\n",
    "    total_vocab_tokenized.extend(allwords_tokenized)"
   ]
  },
  {
   "cell_type": "code",
   "execution_count": 35,
   "metadata": {
    "collapsed": false,
    "scrolled": false
   },
   "outputs": [
    {
     "data": {
      "text/plain": [
       "(4556441, 4556441)"
      ]
     },
     "execution_count": 35,
     "metadata": {},
     "output_type": "execute_result"
    }
   ],
   "source": [
    "len(total_vocab_stemmed), len(total_vocab_tokenized)"
   ]
  },
  {
   "cell_type": "code",
   "execution_count": 36,
   "metadata": {
    "collapsed": false
   },
   "outputs": [
    {
     "name": "stdout",
     "output_type": "stream",
     "text": [
      "there are 4556441 items in vocab_frame\n"
     ]
    }
   ],
   "source": [
    "vocab_frame = pd.DataFrame({'words': total_vocab_tokenized}, index = total_vocab_stemmed)\n",
    "print('there are ' + str(vocab_frame.shape[0]) + ' items in vocab_frame')"
   ]
  },
  {
   "cell_type": "markdown",
   "metadata": {},
   "source": [
    "## TF-IDF Vectorizer"
   ]
  },
  {
   "cell_type": "markdown",
   "metadata": {},
   "source": [
    "In this section, we use scikit-learn's TF-IDF Vectorizer to build a matrix of important vocabulary for our corpus."
   ]
  },
  {
   "cell_type": "code",
   "execution_count": 37,
   "metadata": {
    "collapsed": false,
    "scrolled": true
   },
   "outputs": [
    {
     "name": "stdout",
     "output_type": "stream",
     "text": [
      "CPU times: user 2min 55s, sys: 3.57 s, total: 2min 58s\n",
      "Wall time: 3min 4s\n",
      "(3963, 25859)\n"
     ]
    }
   ],
   "source": [
    "from sklearn.feature_extraction.text import TfidfVectorizer\n",
    "tfidf_vectorizer = TfidfVectorizer(max_df=0.65,\n",
    "                                   min_df=10, stop_words=stopwords,\n",
    "                                   use_idf=True, tokenizer=tokenize_and_stem, ngram_range=(1, 3))\n",
    "\n",
    "%time tfidf_matrix = tfidf_vectorizer.fit_transform(post_texts)\n",
    "print(tfidf_matrix.shape)"
   ]
  },
  {
   "cell_type": "code",
   "execution_count": 38,
   "metadata": {
    "collapsed": true
   },
   "outputs": [],
   "source": [
    "tfidf_fit = tfidf_vectorizer.fit(post_texts)"
   ]
  },
  {
   "cell_type": "code",
   "execution_count": 39,
   "metadata": {
    "collapsed": true
   },
   "outputs": [],
   "source": [
    "terms = tfidf_vectorizer.get_feature_names()"
   ]
  },
  {
   "cell_type": "code",
   "execution_count": 40,
   "metadata": {
    "collapsed": true
   },
   "outputs": [],
   "source": [
    "tfidf_vectorizer.vocabulary_;"
   ]
  },
  {
   "cell_type": "code",
   "execution_count": 41,
   "metadata": {
    "collapsed": true
   },
   "outputs": [],
   "source": [
    "idf = tfidf_vectorizer.idf_\n",
    "idf_dict = dict(zip(tfidf_vectorizer.get_feature_names(), idf))"
   ]
  },
  {
   "cell_type": "code",
   "execution_count": 42,
   "metadata": {
    "collapsed": true
   },
   "outputs": [],
   "source": [
    "from sklearn.metrics.pairwise import cosine_similarity\n",
    "dist = 1 - cosine_similarity(tfidf_matrix)"
   ]
  },
  {
   "cell_type": "markdown",
   "metadata": {},
   "source": [
    "Here we just pickle some important builds so that we need not rebuild them in the future."
   ]
  },
  {
   "cell_type": "code",
   "execution_count": 12,
   "metadata": {
    "collapsed": true
   },
   "outputs": [],
   "source": [
    "from sklearn.externals import joblib"
   ]
  },
  {
   "cell_type": "code",
   "execution_count": 101,
   "metadata": {
    "collapsed": false
   },
   "outputs": [
    {
     "data": {
      "text/plain": [
       "['tfidf_matrix.pkl']"
      ]
     },
     "execution_count": 101,
     "metadata": {},
     "output_type": "execute_result"
    }
   ],
   "source": [
    "joblib.dump(tfidf_matrix, 'tfidf_matrix.pkl')"
   ]
  },
  {
   "cell_type": "code",
   "execution_count": 100,
   "metadata": {
    "collapsed": false
   },
   "outputs": [
    {
     "data": {
      "text/plain": [
       "['tfidf_vectorizer.pkl']"
      ]
     },
     "execution_count": 100,
     "metadata": {},
     "output_type": "execute_result"
    }
   ],
   "source": [
    "joblib.dump(tfidf_vectorizer, 'tfidf_vectorizer.pkl')"
   ]
  },
  {
   "cell_type": "code",
   "execution_count": 103,
   "metadata": {
    "collapsed": false
   },
   "outputs": [
    {
     "data": {
      "text/plain": [
       "['tfidf_fit.pkl']"
      ]
     },
     "execution_count": 103,
     "metadata": {},
     "output_type": "execute_result"
    }
   ],
   "source": [
    "joblib.dump(tfidf_fit, 'tfidf_fit.pkl')"
   ]
  },
  {
   "cell_type": "code",
   "execution_count": 13,
   "metadata": {
    "collapsed": false
   },
   "outputs": [
    {
     "data": {
      "text/plain": [
       "['post_titles.pkl']"
      ]
     },
     "execution_count": 13,
     "metadata": {},
     "output_type": "execute_result"
    }
   ],
   "source": [
    "joblib.dump(post_titles, 'post_titles.pkl')"
   ]
  },
  {
   "cell_type": "code",
   "execution_count": 15,
   "metadata": {
    "collapsed": false,
    "scrolled": true
   },
   "outputs": [
    {
     "data": {
      "text/plain": [
       "['post_urls.pkl']"
      ]
     },
     "execution_count": 15,
     "metadata": {},
     "output_type": "execute_result"
    }
   ],
   "source": [
    "joblib.dump(post_urls, 'post_urls.pkl')"
   ]
  },
  {
   "cell_type": "code",
   "execution_count": null,
   "metadata": {
    "collapsed": true
   },
   "outputs": [],
   "source": [
    "tfidf_matrix = joblib.load('app/tfidf_matrix.pkl')"
   ]
  },
  {
   "cell_type": "markdown",
   "metadata": {},
   "source": [
    "## Deep Learning Book Chapter Post Recommendations"
   ]
  },
  {
   "cell_type": "markdown",
   "metadata": {},
   "source": [
    "We start having some fun in this section by exploring a basic recommedation based on cosine similarity between a new block of text and our TF-IDF matrix.  The hope is that we find blog posts semantically similar to the text in question.  For this example, I pasted a chapter from the Deep Learning Book to see what kind of posts might complement my studies."
   ]
  },
  {
   "cell_type": "code",
   "execution_count": 43,
   "metadata": {
    "collapsed": true
   },
   "outputs": [],
   "source": [
    "pairwise_similarity = tfidf_matrix * tfidf_matrix.T"
   ]
  },
  {
   "cell_type": "code",
   "execution_count": 51,
   "metadata": {
    "collapsed": false
   },
   "outputs": [
    {
     "data": {
      "text/plain": [
       "scipy.sparse.csr.csr_matrix"
      ]
     },
     "execution_count": 51,
     "metadata": {},
     "output_type": "execute_result"
    }
   ],
   "source": [
    "type(pairwise_similarity)"
   ]
  },
  {
   "cell_type": "code",
   "execution_count": 44,
   "metadata": {
    "collapsed": true
   },
   "outputs": [],
   "source": [
    "a = pairwise_similarity.A[-7]"
   ]
  },
  {
   "cell_type": "code",
   "execution_count": 46,
   "metadata": {
    "collapsed": false
   },
   "outputs": [
    {
     "data": {
      "text/plain": [
       "array([ 0.0982661 ,  0.14260383,  0.13028344, ...,  0.47294373,\n",
       "        0.25165604,  0.27551203])"
      ]
     },
     "execution_count": 46,
     "metadata": {},
     "output_type": "execute_result"
    }
   ],
   "source": [
    "a"
   ]
  },
  {
   "cell_type": "code",
   "execution_count": 47,
   "metadata": {
    "collapsed": false
   },
   "outputs": [
    {
     "data": {
      "text/plain": [
       "array([3956, 3959, 3960, 2453, 3955, 2219, 3866,  256, 2503,   88])"
      ]
     },
     "execution_count": 47,
     "metadata": {},
     "output_type": "execute_result"
    }
   ],
   "source": [
    "a.argsort()[-10:][::-1]"
   ]
  },
  {
   "cell_type": "markdown",
   "metadata": {},
   "source": [
    "Above we can see a bit of what's going on here.  First we compute a dot product of our matrix, which gives us a sparse matrix of similarity scores between posts in our corpus.  Then, we convert this to a numpy array and take an example row for illustrative purposes. This gives us our similarity score for each item in the corpus.  We argsort it to get the most similar. "
   ]
  },
  {
   "cell_type": "markdown",
   "metadata": {},
   "source": [
    "Now we repeat this process using a few chapters from the Deep Learning Book."
   ]
  },
  {
   "cell_type": "code",
   "execution_count": 54,
   "metadata": {
    "collapsed": false
   },
   "outputs": [
    {
     "data": {
      "text/plain": [
       "'Deep Learning Book 6 - Deep Feedforward Networks'"
      ]
     },
     "execution_count": 54,
     "metadata": {},
     "output_type": "execute_result"
    }
   ],
   "source": [
    "post_titles[3955]"
   ]
  },
  {
   "cell_type": "code",
   "execution_count": 57,
   "metadata": {
    "collapsed": false
   },
   "outputs": [
    {
     "name": "stdout",
     "output_type": "stream",
     "text": [
      "***Deep Learning Book 10 - Sequence Modeling: Recurrent and Recursive Nets***\n",
      "The Unreasonable Effectiveness of Recurrent Neural Networks\n",
      "Understanding LSTM Networks\n",
      "Deep Learning Research Review Week 3&#58 Natural Language Processing\n",
      "Written Memories: Understanding, Deriving and Extending the LSTM\n",
      "Hyper Networks\n",
      "RNNs in Tensorflow, a Practical Guide and Undocumented Features\n",
      "Recurrent Neural Network Tutorial, Part 4 – Implementing a GRU/LSTM RNN with Python and Theano\n",
      "A 'Brief' History of Neural Nets and Deep Learning, Part 3\n",
      "Gradient descent learns linear dynamical systems\n",
      "25 Must Know Terms & concepts for Beginners in Deep Learning\n",
      "LSTMs\n",
      "Recurrent Neural Networks Tutorial, Part 3 – Backpropagation Through Time and Vanishing Gradients\n",
      "A Gentle Introduction to Artificial Neural Networks\n",
      "Rolling and Unrolling RNNs\n",
      "Attention and Memory in Deep Learning and NLP\n",
      "\n",
      "\n",
      "***Deep Learning Book 9 - Convolutional Networks***\n",
      "Understanding Convolution in Deep Learning\n",
      "Visualizing Features from a Convolutional Neural Network\n",
      "Understanding Convolutional Neural Networks for NLP\n",
      "🎄 2016 Holiday Special: Deriving the Subpixel CNN from First Principles\n",
      "Dilated Convolution\n",
      "Playing with convolutions in TensorFlow\n",
      "25 Must Know Terms & concepts for Beginners in Deep Learning\n",
      "Combining CNN and RNN for spoken language identification\n",
      "Factorized convolutional neural networks, AKA separable convolutions\n",
      "ICCV 2015: Twenty one hottest research papers\n",
      "The 9 Deep Learning Papers You Need To Know About &#40&#85nderstanding C&#78&#78s Part 3&#41\n",
      "A Beginner's Guide To Understanding Convolutional Neural Networks\n",
      "Spoken language identification with deep convolutional networks\n",
      "Geoffrey Hinton on max pooling (reddit AMA)\n",
      "How Neural Networks generate Visual Art from inspiration\n",
      "Diabetic retinopathy detection contest. What we did wrong\n",
      "A Beginner's Guide To Understanding Convolutional Neural Networks Part 2\n",
      "ImageNet: VGGNet, ResNet, Inception, and Xception with Keras\n",
      "\n",
      "\n",
      "***Deep Learning Book 8 - Optimization for Training Deep Models***\n",
      "An overview of gradient descent optimization algorithms\n",
      "Stochastic Gradient Methods 2014\n",
      "A Brief Overview of Deep Learning\n",
      "The hard thing about deep learning\n",
      "An Interactive Tutorial on Numerical Optimization\n",
      "26 Things I Learned in the Deep Learning Summer School\n",
      "25 Must Know Terms & concepts for Beginners in Deep Learning\n",
      "Why Momentum Really Works\n",
      "A Gentle Introduction to Artificial Neural Networks\n",
      "Geometry of linearized neural networks\n",
      "Initialization of deep networks\n",
      "First Order Optimization Methods\n",
      "Deep Learning without Backpropagation\n",
      "Gradient descent learns linear dynamical systems\n",
      "\n",
      "\n",
      "***Deep Learning Book 7 - Regularization for Deep Learning***\n",
      "A Brief Overview of Deep Learning\n",
      "Preliminary Note on the Complexity of a Neural Network\n",
      "Making Deep Networks Probabilistic via Test-time Dropout\n",
      "25 Must Know Terms & concepts for Beginners in Deep Learning\n",
      "A Gentle Introduction to Artificial Neural Networks\n",
      "Whats new on arXiv\n",
      "When Regularization Fails\n",
      "Building Intelligent Applications\n",
      "26 Things I Learned in the Deep Learning Summer School\n",
      "A Neural Network in 11 lines of Python (Part 1)\n",
      "Hyper Networks\n",
      "A 'Brief' History of Neural Nets and Deep Learning, Part 4\n",
      "Local Search Optimization for HyperParameter Tuning\n",
      "A 'Brief' History of Neural Nets and Deep Learning, Part 2\n",
      "\n",
      "\n",
      "***Deep Learning Book 3 - Probability and Information Theory***\n",
      "Visual Information Theory\n",
      "Meaning of conditional probability\n",
      "Turning Distances into Distributions\n",
      "Measure Theory for Probability: A Very Brief Introduction\n",
      "Hamiltonian Monte Carlo explained\n",
      "Simple Bayesian Network via Monte Carlo Markov Chain\n",
      "Kullback-Leibler Divergence Explained\n",
      "What is a distribution?\n",
      "Estimating Discrete Entropy, Part 1\n",
      "Random numbers in constant storage\n",
      "How good are your beliefs? Part 1: Scoring Rules\n",
      "An introduction to Bayesian Belief Networks\n",
      "Machine Learning Trick of the Day (6): Tricks with Sticks\n",
      "Continuous Bayes’ Theorem\n",
      "Is Maximum Likelihood Useful for Representation Learning?\n",
      "The Lebesgue Integral: A Curious Tea Party (Part 1)\n",
      "Variational Inference using Implicit Models Part III: Joint-Contrastive Inference, ALI and BiGAN\n",
      "Variational Inference using Implicit Models, Part I: Bayesian Logistic Regression\n",
      "\n",
      "\n",
      "***Deep Learning Book 4 - Numerical Computation***\n",
      "The 100 trendiest baby names (determined by an analytical chemistry technique)\n",
      "Stochastic Gradient Methods 2014\n",
      "Why Momentum Really Works\n",
      "An Interactive Tutorial on Numerical Optimization\n",
      "Optimization inequalities cheatsheet\n",
      "Machine Learning for Programming\n",
      "Matrix and Vector Calculus via Differentials\n",
      "Why does Kaggle use Log-loss?\n",
      "Evolution Strategies, Variational Optimisation and Natural ES\n",
      "Turning Distances into Distributions\n",
      "An overview of gradient descent optimization algorithms\n",
      "Geometry of linearized neural networks\n",
      "26 Things I Learned in the Deep Learning Summer School\n",
      "Understanding the Pseudo-Truth as an Optimal Approximation\n",
      "Gradient descent learns linear dynamical systems\n",
      "\n",
      "\n",
      "***Deep Learning Book 5 - Machine Learning Basics***\n",
      "Which machine learning algorithm should I use?\n",
      "Theoretical Motivations for Deep Learning\n",
      "Building Intelligent Applications\n",
      "On Machine Learning\n",
      "Model Selection: Underfitting, Overfitting, and the Bias-Variance Tradeoff\n",
      "Whats new on arXiv\n",
      "Ideas on interpreting machine learning\n",
      "Machine Learning: An In-Depth Guide - Unsupervised Learning, Related Fields, and Machine Learning in Practice\n",
      "The Current State of Automated Machine Learning\n",
      "7 tools in every data scientist’s toolbox\n",
      "Local Search Optimization for HyperParameter Tuning\n",
      "Bayesian machine learning\n",
      "Common Pitfalls in Machine Learning\n",
      "Transfer Learning - Machine Learning's Next Frontier\n",
      "Quora Q&A Session Answers\n",
      "\n",
      "\n",
      "***Deep Learning Book 6 - Deep Feedforward Networks***\n",
      "A Gentle Introduction to Artificial Neural Networks\n",
      "25 Must Know Terms & concepts for Beginners in Deep Learning\n",
      "A Brief Overview of Deep Learning\n",
      "Neural Network Evolution Playground with Backprop NEAT\n",
      "Initialization of deep networks\n",
      "Derivation: Derivatives for Common Neural Network Activation Functions\n",
      "Derivation: Error Backpropagation & Gradient Descent for Neural Networks\n",
      "Attributing a deep network’s prediction to its input features\n",
      "Neural Networks, Types, and Functional Programming\n",
      "A 'Brief' History of Neural Nets and Deep Learning, Part 2\n",
      "Deep Learning without Backpropagation\n",
      "Artificial Intelligence, Deep Learning, and Neural Networks Explained\n",
      "A 'Brief' History of Neural Nets and Deep Learning, Part 1\n",
      "\n",
      "\n"
     ]
    }
   ],
   "source": [
    "for i in range(1, 9):\n",
    "    l = []\n",
    "    a = pairwise_similarity.A[-i]\n",
    "    sim = a.argsort()[-20:][::-1]\n",
    "    print('***' + str(post_titles[sim[0]]) + '***')\n",
    "    while len(l) < 10:\n",
    "        for post in sim:\n",
    "            if post_titles[post][0:18] != 'Deep Learning Book':\n",
    "                l.append(post_titles[post])\n",
    "    for post in l:\n",
    "        print(post)\n",
    "    print('\\n')"
   ]
  },
  {
   "cell_type": "markdown",
   "metadata": {},
   "source": [
    "***Not too shabby!***"
   ]
  },
  {
   "cell_type": "markdown",
   "metadata": {},
   "source": [
    "## Clustering"
   ]
  },
  {
   "cell_type": "markdown",
   "metadata": {},
   "source": [
    "For some bonus fun, in the following sections we're going to cluster the posts in our corpus and find out what are the important topics among the clusters.  We accomplish this with a simple KMeans clustering on our matrix.  Perhaps an extension would be to use hierarchical clustering or an alternative such as DBScan."
   ]
  },
  {
   "cell_type": "code",
   "execution_count": 58,
   "metadata": {
    "collapsed": false
   },
   "outputs": [
    {
     "name": "stdout",
     "output_type": "stream",
     "text": [
      "CPU times: user 4min 4s, sys: 4.02 s, total: 4min 8s\n",
      "Wall time: 4min 15s\n"
     ]
    }
   ],
   "source": [
    "from sklearn.cluster import KMeans\n",
    "num_clusters = 10\n",
    "km = KMeans(n_clusters=num_clusters)\n",
    "%time km.fit(tfidf_matrix)\n",
    "clusters = km.labels_.tolist()"
   ]
  },
  {
   "cell_type": "code",
   "execution_count": 59,
   "metadata": {
    "collapsed": true
   },
   "outputs": [],
   "source": [
    "posts = { 'title': post_titles, 'text': post_texts, 'cluster': clusters, 'url': post_urls }\n",
    "\n",
    "df = pd.DataFrame(posts, index = [clusters] , columns = ['title', 'cluster', 'url'])\n"
   ]
  },
  {
   "cell_type": "code",
   "execution_count": 60,
   "metadata": {
    "collapsed": false
   },
   "outputs": [
    {
     "data": {
      "text/html": [
       "<div>\n",
       "<table border=\"1\" class=\"dataframe\">\n",
       "  <thead>\n",
       "    <tr style=\"text-align: right;\">\n",
       "      <th></th>\n",
       "      <th>title</th>\n",
       "      <th>cluster</th>\n",
       "      <th>url</th>\n",
       "    </tr>\n",
       "  </thead>\n",
       "  <tbody>\n",
       "    <tr>\n",
       "      <th>7</th>\n",
       "      <td>Scalable Software and Big Data Architecture - ...</td>\n",
       "      <td>7</td>\n",
       "      <td>http://www.innoarchitech.com/scalable-cloud-so...</td>\n",
       "    </tr>\n",
       "    <tr>\n",
       "      <th>8</th>\n",
       "      <td>What Is Data Science, and What Does a Data Sci...</td>\n",
       "      <td>8</td>\n",
       "      <td>http://www.innoarchitech.com/what-is-data-scie...</td>\n",
       "    </tr>\n",
       "    <tr>\n",
       "      <th>7</th>\n",
       "      <td>Scalable Software and Big Data Architecture - ...</td>\n",
       "      <td>7</td>\n",
       "      <td>http://www.innoarchitech.com/cloud-software-bi...</td>\n",
       "    </tr>\n",
       "    <tr>\n",
       "      <th>2</th>\n",
       "      <td>IndyCar - a Technical and Not So Technical Ove...</td>\n",
       "      <td>2</td>\n",
       "      <td>http://www.innoarchitech.com/indycar-champcar-...</td>\n",
       "    </tr>\n",
       "    <tr>\n",
       "      <th>7</th>\n",
       "      <td>How to Choose the Right Database System: RDBMS...</td>\n",
       "      <td>7</td>\n",
       "      <td>http://www.innoarchitech.com/how-choose-right-...</td>\n",
       "    </tr>\n",
       "  </tbody>\n",
       "</table>\n",
       "</div>"
      ],
      "text/plain": [
       "                                               title  cluster  \\\n",
       "7  Scalable Software and Big Data Architecture - ...        7   \n",
       "8  What Is Data Science, and What Does a Data Sci...        8   \n",
       "7  Scalable Software and Big Data Architecture - ...        7   \n",
       "2  IndyCar - a Technical and Not So Technical Ove...        2   \n",
       "7  How to Choose the Right Database System: RDBMS...        7   \n",
       "\n",
       "                                                 url  \n",
       "7  http://www.innoarchitech.com/scalable-cloud-so...  \n",
       "8  http://www.innoarchitech.com/what-is-data-scie...  \n",
       "7  http://www.innoarchitech.com/cloud-software-bi...  \n",
       "2  http://www.innoarchitech.com/indycar-champcar-...  \n",
       "7  http://www.innoarchitech.com/how-choose-right-...  "
      ]
     },
     "execution_count": 60,
     "metadata": {},
     "output_type": "execute_result"
    }
   ],
   "source": [
    "df.head()"
   ]
  },
  {
   "cell_type": "code",
   "execution_count": null,
   "metadata": {
    "collapsed": true
   },
   "outputs": [],
   "source": []
  },
  {
   "cell_type": "code",
   "execution_count": 61,
   "metadata": {
    "collapsed": false
   },
   "outputs": [
    {
     "data": {
      "text/plain": [
       "2    1122\n",
       "5     634\n",
       "4     391\n",
       "0     354\n",
       "7     297\n",
       "3     266\n",
       "8     258\n",
       "6     231\n",
       "9     214\n",
       "1     196\n",
       "Name: cluster, dtype: int64"
      ]
     },
     "execution_count": 61,
     "metadata": {},
     "output_type": "execute_result"
    }
   ],
   "source": [
    "df['cluster'].value_counts()"
   ]
  },
  {
   "cell_type": "code",
   "execution_count": 62,
   "metadata": {
    "collapsed": false
   },
   "outputs": [
    {
     "name": "stdout",
     "output_type": "stream",
     "text": [
      "Top terms per cluster:\n",
      "\n",
      "Cluster 0 words:files\n",
      "install\n",
      "python\n",
      "code\n",
      "package\n",
      "r\n",
      "running\n",
      "command\n",
      "scripts\n",
      "created\n",
      "notebooks\n",
      "line\n",
      "needed\n",
      "spark\n",
      "functionality\n",
      "testing\n",
      "important\n",
      "work\n",
      "library’s\n",
      "users\n",
      "\n",
      "\n",
      "Cluster 0 titles: Create Audiobooks with Amazon Polly and AWS Batch, Managing managed libraries with Scala and Eclipse, Render reports directly from R scripts, Blogging with Jekyll and R Markdown using knitr, DIY building an R package,\n",
      "\n",
      "Cluster 1 words:network\n",
      "layers\n",
      "image\n",
      "training\n",
      "neural\n",
      "models\n",
      "neural network\n",
      "inputs\n",
      "vectorizer\n",
      "output\n",
      "gradient\n",
      "learning\n",
      "weighting\n",
      "convolutional\n",
      "neurons\n",
      "functionality\n",
      "deep\n",
      "losses\n",
      "generate\n",
      "features\n",
      "\n",
      "\n",
      "Cluster 1 titles: Artificial Neural Networks Introduction (Part II), Artificial Neural Networks (ANN) Introduction, ICML 2013 Reading List, ICML 2012 Deep Learning and Unsupervised Feature Extraction Reading List, Paper Notes: The Shattered Gradients Problem ...,\n",
      "\n",
      "Cluster 2 words:people\n",
      "work\n",
      "get\n",
      "team\n",
      "research\n",
      "point\n",
      "interest\n",
      "because\n",
      "book\n",
      "review\n",
      "different\n",
      "learning\n",
      "talk\n",
      "players\n",
      "even\n",
      "could\n",
      "ways\n",
      "only\n",
      "going\n",
      "much\n",
      "\n",
      "\n",
      "Cluster 2 titles: IndyCar - a Technical and Not So Technical Overview, Dynamics of Debates with Time Maps, Where Will Your Country Stand in World War III?, Association Rules and the Apriori Algorithm, Powering Language Learning on Duolingo with Amazon Polly,\n",
      "\n",
      "Cluster 3 words:models\n",
      "prediction\n",
      "features\n",
      "training\n",
      "tree\n",
      "learning\n",
      "algorithms\n",
      "set\n",
      "regression\n",
      "testing\n",
      "classified\n",
      "variables\n",
      "random\n",
      "scoring\n",
      "machine\n",
      "forest\n",
      "competitive\n",
      "dataset\n",
      "random forest\n",
      "machine learning\n",
      "\n",
      "\n",
      "Cluster 3 titles: Machine Learning: An In-Depth Guide - Model Performance and Error Analysis, Time Series Analysis with Generalized Additive Models, k-Nearest Neighbors & Anomaly Detection Tutorial, Random Forest Tutorial: Predicting Crime in San Francisco, Decision Trees Tutorial,\n",
      "\n",
      "Cluster 4 words:distributed\n",
      "estimated\n",
      "models\n",
      "p\n",
      "probability\n",
      "\\frac\n",
      "sample\n",
      "bayesian\n",
      "testing\n",
      "statistics\n",
      "value\n",
      "variables\n",
      "functionality\n",
      "prior\n",
      "parameters\n",
      "methods\n",
      "inference\n",
      "random\n",
      "f\n",
      "\\theta\n",
      "\n",
      "\n",
      "Cluster 4 titles: Principal Component Analysis Tutorial, 41 questions on Statistics for data scientists & analysts, Generating Data for benchmarking clustering algorithms, R Packages worth a look, Random numbers in constant storage,\n",
      "\n",
      "Cluster 5 words:functionality\n",
      "graphs\n",
      "code\n",
      "returned\n",
      "python\n",
      "cluster\n",
      "value\n",
      "pandas\n",
      "apis\n",
      "dask\n",
      "columns\n",
      "image\n",
      "arrays\n",
      "named\n",
      "c\n",
      "important\n",
      "plot\n",
      "dataframe\n",
      "df\n",
      "b\n",
      "\n",
      "\n",
      "Cluster 5 titles: Large Data with Scikit-learn - Boston Meetup, Paris Meetup slides Topic Modeling of Twitter Followers, Segmentation of Twitter Timelines via Topic Modeling, Topic Modeling of Twitter Followers, 40 Questions to test your skill in Python for Data Science,\n",
      "\n",
      "Cluster 6 words:learning\n",
      "deep\n",
      "ai\n",
      "deep learning\n",
      "machine\n",
      "machine learning\n",
      "intelligence\n",
      "models\n",
      "neural\n",
      "network\n",
      "research\n",
      "computers\n",
      "system\n",
      "algorithms\n",
      "human\n",
      "artificial\n",
      "neural network\n",
      "artificial intelligence\n",
      "image\n",
      "training\n",
      "\n",
      "\n",
      "Cluster 6 titles: Artificial Intelligence, Deep Learning, and Neural Networks Explained, Machine Learning: An In-Depth Guide - Unsupervised Learning, Related Fields, and Machine Learning in Practice, Writing Effective Amazon Machine Learning, Build your own Deep Learning Box, In the Research Spotlight: Anima Anandkumar,\n",
      "\n",
      "Cluster 7 words:analytics\n",
      "business\n",
      "big\n",
      "hadoop\n",
      "customize\n",
      "services\n",
      "marketing\n",
      "company’s\n",
      "cloud\n",
      "organized\n",
      "technology\n",
      "product\n",
      "team\n",
      "management\n",
      "system\n",
      "platforms\n",
      "insights\n",
      "science\n",
      "enterprise\n",
      "processing\n",
      "\n",
      "\n",
      "Cluster 7 titles: Scalable Software and Big Data Architecture - Software Architectural Patterns and Design Patterns, Scalable Software and Big Data Architecture - Application Types, Requirements, and Components, How to Choose the Right Database System: RDBMS vs. NoSql vs. NewSQL, Why User Experience (UX) and Simplicity Drive Competitive Advantage, Building a budgeting service,\n",
      "\n",
      "Cluster 8 words:science\n",
      "students\n",
      "learning\n",
      "job\n",
      "skills\n",
      "programming\n",
      "work\n",
      "courses\n",
      "project\n",
      "research\n",
      "people\n",
      "interviewers\n",
      "team\n",
      "school\n",
      "company’s\n",
      "question\n",
      "statistics\n",
      "get\n",
      "machine learning\n",
      "experience\n",
      "\n",
      "\n",
      "Cluster 8 titles: What Is Data Science, and What Does a Data Scientist Do?, Inspiring story of Deepak Vadithala – from a Paper delivery boy to a Lead Data Engineer & QlikView Luminary, Your First Job, Distilled News, Leaving CMU,\n",
      "\n",
      "Cluster 9 words:tableau\n",
      "chart\n",
      "tables\n",
      "query\n",
      "dashboards\n",
      "varchar\n",
      "smallint\n",
      "workbook\n",
      "color\n",
      "sql\n",
      "databases\n",
      "cities\n",
      "selectively\n",
      "reblogged\n",
      "iquantny\n",
      "partitions\n",
      "bar\n",
      "string\n",
      "filtering\n",
      "reblogged iquantny\n",
      "\n",
      "\n",
      "Cluster 9 titles: Hands on tutorial to perform Data Exploration using Elastic Search and Kibana (using Python), 42 Questions on SQL for all aspiring Data Scientists, Caching in Java with JOOQ and Redis, DynamoDB Learnings, Loading IP Test Data Into Postgres,\n",
      "\n",
      "\n",
      "\n"
     ]
    }
   ],
   "source": [
    "print(\"Top terms per cluster:\")\n",
    "print()\n",
    "\n",
    "order_centroids = km.cluster_centers_.argsort()[:, ::-1]\n",
    "\n",
    "for i in range(num_clusters):\n",
    "    print(\"Cluster %d words:\" % i, end='')\n",
    "    \n",
    "    for ind in order_centroids[i, :20]:\n",
    "        if len(terms[ind].split()) > 1:\n",
    "            a = vocab_frame.ix[terms[ind].split()[0]]['words'].iloc[0]\n",
    "            b = vocab_frame.ix[terms[ind].split()[1]]['words'].iloc[0]\n",
    "            print(a + ' ' + b)\n",
    "        else:\n",
    "            print(vocab_frame.ix[terms[ind]]['words'].iloc[0])\n",
    "    print()\n",
    "    print()\n",
    "    \n",
    "    print(\"Cluster %d titles:\" % i, end='')\n",
    "    for title in df.ix[i]['title'].values.tolist()[:5]:\n",
    "        print(' %s,' % title, end='')\n",
    "    print()\n",
    "    print()\n",
    "    \n",
    "print()\n",
    "print()"
   ]
  },
  {
   "cell_type": "code",
   "execution_count": null,
   "metadata": {
    "collapsed": true
   },
   "outputs": [],
   "source": []
  },
  {
   "cell_type": "code",
   "execution_count": null,
   "metadata": {
    "collapsed": true
   },
   "outputs": [],
   "source": []
  },
  {
   "cell_type": "code",
   "execution_count": null,
   "metadata": {
    "collapsed": true
   },
   "outputs": [],
   "source": []
  },
  {
   "cell_type": "markdown",
   "metadata": {},
   "source": [
    "## Build Word Clouds"
   ]
  },
  {
   "cell_type": "code",
   "execution_count": 63,
   "metadata": {
    "collapsed": true
   },
   "outputs": [],
   "source": [
    "from PIL import Image\n",
    "from os import path\n",
    "import cv2\n",
    "from wordcloud import WordCloud\n",
    "import matplotlib.pyplot as plt\n",
    "%matplotlib inline"
   ]
  },
  {
   "cell_type": "code",
   "execution_count": 64,
   "metadata": {
    "collapsed": true
   },
   "outputs": [],
   "source": [
    "def build_cluster_cloud(order_centroids, cluster, num_words=200, mask_image=None, bg_color='#000'):\n",
    "    # Build list of words\n",
    "    cluster_list = []\n",
    "    val = num_words\n",
    "    for ind in order_centroids[cluster, :num_words]:\n",
    "        if len(terms[ind].split()) > 1:\n",
    "            a = vocab_frame.ix[terms[ind].split()[0]]['words'].iloc[0]\n",
    "            b = vocab_frame.ix[terms[ind].split()[1]]['words'].iloc[0]\n",
    "            cluster_list.append((str(a + ' ' + b), val))\n",
    "        else:\n",
    "            cluster_list.append((vocab_frame.ix[terms[ind]]['words'].iloc[0], val))\n",
    "        val -= 1\n",
    "        \n",
    "    # Build Word Cloud\n",
    "    if mask_image:\n",
    "        mask = np.array(Image.open(open(mask_image, 'rb')))\n",
    "        wc = WordCloud(mask=mask, background_color=bg_color).generate_from_frequencies(cluster_list)\n",
    "    else:\n",
    "        wc = WordCloud().generate_from_frequencies(cluster_list)\n",
    "    #wc = WordCloud(mask=mask).generate(''.join(tfidf_vectorizer.vocabulary_.keys()))\n",
    "    plt.figure(figsize=(12, 10))\n",
    "    plt.imshow(wc, cmap=plt.cm.gray, interpolation='bilinear')\n",
    "    plt.axis(\"off\")\n",
    "    plt.show()\n",
    "    return"
   ]
  },
  {
   "cell_type": "code",
   "execution_count": 65,
   "metadata": {
    "collapsed": false
   },
   "outputs": [
    {
     "data": {
      "image/png": "[encoded data removed]",
      "text/plain": [
       "<matplotlib.figure.Figure at 0x14817c128>"
      ]
     },
     "metadata": {},
     "output_type": "display_data"
    }
   ],
   "source": [
    "build_cluster_cloud(order_centroids, 2, mask_image='graph.png')"
   ]
  },
  {
   "cell_type": "code",
   "execution_count": 75,
   "metadata": {
    "collapsed": true
   },
   "outputs": [],
   "source": [
    "cluster_list = []\n",
    "val = 200\n",
    "for ind in order_centroids[6, :200]:\n",
    "    if len(terms[ind].split()) > 1:\n",
    "        a = vocab_frame.ix[terms[ind].split()[0]]['words'].iloc[0]\n",
    "        b = vocab_frame.ix[terms[ind].split()[1]]['words'].iloc[0]\n",
    "        cluster_list.append((str(a + ' ' + b), val))\n",
    "    else:\n",
    "        cluster_list.append((vocab_frame.ix[terms[ind]]['words'].iloc[0], val))\n",
    "    #cluster_list.append(('%s' % vocab_frame.ix[terms[ind].split(' ')].index[0], val))\n",
    "    val -= 1\n",
    "    "
   ]
  },
  {
   "cell_type": "code",
   "execution_count": 76,
   "metadata": {
    "collapsed": false
   },
   "outputs": [
    {
     "data": {
      "text/plain": [
       "[('learning', 200),\n",
       " ('deep', 199),\n",
       " ('ai', 198),\n",
       " ('deep learning', 197),\n",
       " ('machine', 196),\n",
       " ('machine learning', 195),\n",
       " ('intelligence', 194),\n",
       " ('models', 193),\n",
       " ('neural', 192),\n",
       " ('network', 191),\n",
       " ('research', 190),\n",
       " ('computers', 189),\n",
       " ('system', 188),\n",
       " ('algorithms', 187),\n",
       " ('human', 186),\n",
       " ('artificial', 185),\n",
       " ('neural network', 184),\n",
       " ('artificial intelligence', 183),\n",
       " ('image', 182),\n",
       " ('training', 181),\n",
       " ('robotics', 180),\n",
       " ('vision', 179),\n",
       " ('video', 178),\n",
       " ('work', 177),\n",
       " ('google', 176),\n",
       " ('problems', 175),\n",
       " ('technology', 174),\n",
       " ('computers vision', 173),\n",
       " ('reinforce learning', 172),\n",
       " ('reinforce', 171),\n",
       " ('development', 170),\n",
       " ('processing', 169),\n",
       " ('prediction', 168),\n",
       " ('very', 167),\n",
       " ('many', 166),\n",
       " ('understand', 165),\n",
       " ('company’s', 164),\n",
       " ('recognition', 163),\n",
       " ('build', 162),\n",
       " ('science', 161),\n",
       " ('needed', 160),\n",
       " ('going', 159),\n",
       " ('get', 158),\n",
       " ('application', 157),\n",
       " ('approaches', 156),\n",
       " ('gaming', 155),\n",
       " ('brain', 154),\n",
       " ('language', 153),\n",
       " ('different', 152),\n",
       " ('engineers', 151),\n",
       " ('gpu', 150),\n",
       " ('people', 149),\n",
       " ('techniques', 148),\n",
       " ('conferences', 147),\n",
       " ('programming', 146),\n",
       " ('methods', 145),\n",
       " ('lot', 144),\n",
       " ('world', 143),\n",
       " ('future', 142),\n",
       " ('python', 141),\n",
       " ('idea', 140),\n",
       " ('ways', 139),\n",
       " ('recent', 138),\n",
       " ('us', 137),\n",
       " ('facebook', 136),\n",
       " ('functionality', 135),\n",
       " ('interest', 134),\n",
       " ('could', 133),\n",
       " ('features', 132),\n",
       " ('courses', 131),\n",
       " ('workshops', 130),\n",
       " ('optimization', 129),\n",
       " ('tasks', 128),\n",
       " ('actionable', 127),\n",
       " ('well', 126),\n",
       " ('help', 125),\n",
       " ('aws', 124),\n",
       " ('project', 123),\n",
       " ('talk', 122),\n",
       " ('objects', 121),\n",
       " ('classification', 120),\n",
       " ('started', 119),\n",
       " ('field', 118),\n",
       " ('domain', 117),\n",
       " ('http', 116),\n",
       " ('play', 115),\n",
       " ('amazon', 114),\n",
       " ('take', 113),\n",
       " ('big', 112),\n",
       " ('challenge', 111),\n",
       " ('complexity', 110),\n",
       " ('providing', 109),\n",
       " ('convolutional', 108),\n",
       " ('general', 107),\n",
       " ('says', 106),\n",
       " ('large', 105),\n",
       " ('powerful', 104),\n",
       " ('example', 103),\n",
       " ('coming', 102),\n",
       " ('community', 101),\n",
       " ('include', 100),\n",
       " ('ml', 99),\n",
       " ('because', 98),\n",
       " ('set', 97),\n",
       " ('nvidia', 96),\n",
       " ('much', 95),\n",
       " ('experience', 94),\n",
       " ('gpus', 93),\n",
       " ('better', 92),\n",
       " ('text', 91),\n",
       " ('explore', 90),\n",
       " ('even', 89),\n",
       " ('detecting', 88),\n",
       " ('learning models', 87),\n",
       " ('naturally', 86),\n",
       " ('presenting', 85),\n",
       " ('chess', 84),\n",
       " ('nips', 83),\n",
       " ('advanced', 82),\n",
       " ('library’s', 81),\n",
       " ('layers', 80),\n",
       " ('try', 79),\n",
       " ('generate', 78),\n",
       " ('product', 77),\n",
       " ('good', 76),\n",
       " ('representations', 75),\n",
       " ('performance', 74),\n",
       " ('classified', 73),\n",
       " ('apply', 72),\n",
       " ('unsupervised', 71),\n",
       " ('first', 70),\n",
       " ('learning algorithms', 69),\n",
       " ('mxnet', 68),\n",
       " ('rewarding', 67),\n",
       " ('gaussian processing', 66),\n",
       " ('theory', 65),\n",
       " ('running', 64),\n",
       " ('may', 63),\n",
       " ('implement', 62),\n",
       " ('base', 61),\n",
       " ('point', 60),\n",
       " ('framework', 59),\n",
       " ('open', 58),\n",
       " ('knowledge', 57),\n",
       " ('tools', 56),\n",
       " ('only', 55),\n",
       " ('great', 54),\n",
       " ('structure', 53),\n",
       " ('current', 52),\n",
       " ('universities', 51),\n",
       " ('memory', 50),\n",
       " ('solve', 49),\n",
       " ('efficiency', 48),\n",
       " ('areas', 47),\n",
       " ('tensorflow', 46),\n",
       " ('next', 45),\n",
       " ('emotional', 44),\n",
       " ('results', 43),\n",
       " ('net', 42),\n",
       " ('created', 41),\n",
       " ('scale', 40),\n",
       " ('information', 39),\n",
       " ('still', 38),\n",
       " ('question', 37),\n",
       " ('two', 36),\n",
       " ('platforms', 35),\n",
       " ('becoming', 34),\n",
       " ('moved', 33),\n",
       " ('today’s', 32),\n",
       " ('success', 31),\n",
       " ('however', 30),\n",
       " ('particularly', 29),\n",
       " ('don’t', 28),\n",
       " ('automated', 27),\n",
       " ('sources', 26),\n",
       " ('dataset', 25),\n",
       " ('book', 24),\n",
       " ('improve', 23),\n",
       " ('deployed', 22),\n",
       " ('grouped', 21),\n",
       " ('car', 20),\n",
       " ('software', 19),\n",
       " ('requirements', 18),\n",
       " ('concepts', 17),\n",
       " ('state', 16),\n",
       " ('naturally language', 15),\n",
       " ('agent', 14),\n",
       " ('search', 13),\n",
       " ('experts', 12),\n",
       " ('means', 11),\n",
       " ('any', 10),\n",
       " ('deep neural', 9),\n",
       " ('visualize', 8),\n",
       " ('give', 7),\n",
       " ('able', 6),\n",
       " ('important', 5),\n",
       " ('part', 4),\n",
       " ('learning system', 3),\n",
       " ('services', 2),\n",
       " ('neurons', 1)]"
      ]
     },
     "execution_count": 76,
     "metadata": {},
     "output_type": "execute_result"
    }
   ],
   "source": [
    "cluster_list"
   ]
  },
  {
   "cell_type": "code",
   "execution_count": 77,
   "metadata": {
    "collapsed": true
   },
   "outputs": [],
   "source": [
    "mask = np.array(Image.open(open('robot_bw.png', 'rb')))\n",
    "img = np.array(Image.open(\"robot.jpg\"))"
   ]
  },
  {
   "cell_type": "code",
   "execution_count": 80,
   "metadata": {
    "collapsed": false
   },
   "outputs": [
    {
     "data": {
      "image/png": "[encoded data removed]",
      "text/plain": [
       "<matplotlib.figure.Figure at 0x1633a1080>"
      ]
     },
     "metadata": {},
     "output_type": "display_data"
    }
   ],
   "source": [
    "from wordcloud import WordCloud\n",
    "import matplotlib.pyplot as plt\n",
    "%matplotlib inline\n",
    "wc = WordCloud(mask=mask, background_color=\"#555\").generate_from_frequencies(cluster_list)\n",
    "#wc = WordCloud(mask=mask).generate(''.join(tfidf_vectorizer.vocabulary_.keys()))\n",
    "plt.figure(figsize=(12, 10))\n",
    "plt.imshow(wc, cmap=plt.cm.gray, interpolation='bilinear')\n",
    "plt.axis(\"off\")\n",
    "plt.show()"
   ]
  },
  {
   "cell_type": "code",
   "execution_count": null,
   "metadata": {
    "collapsed": true
   },
   "outputs": [],
   "source": []
  }
 ],
 "metadata": {
  "kernelspec": {
   "display_name": "Python [conda env:metis_appy]",
   "language": "python",
   "name": "conda-env-metis_appy-py"
  },
  "language_info": {
   "codemirror_mode": {
    "name": "ipython",
    "version": 3
   },
   "file_extension": ".py",
   "mimetype": "text/x-python",
   "name": "python",
   "nbconvert_exporter": "python",
   "pygments_lexer": "ipython3",
   "version": "3.6.0"
  }
 },
 "nbformat": 4,
 "nbformat_minor": 2
}
